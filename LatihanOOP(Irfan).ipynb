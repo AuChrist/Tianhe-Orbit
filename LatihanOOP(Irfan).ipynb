{
  "nbformat": 4,
  "nbformat_minor": 0,
  "metadata": {
    "colab": {
      "name": "LatihanOOP(Irfan).ipynb",
      "provenance": []
    },
    "kernelspec": {
      "name": "python3",
      "display_name": "Python 3"
    },
    "language_info": {
      "name": "python"
    }
  },
  "cells": [
    {
      "cell_type": "markdown",
      "metadata": {
        "id": "r8S6eYg-GBZY"
      },
      "source": [
        "\n",
        "\n",
        "---Muhamad Irfan Afriyansyah\n",
        "\n"
      ]
    },
    {
      "cell_type": "code",
      "metadata": {
        "colab": {
          "base_uri": "https://localhost:8080/"
        },
        "id": "VHB3AxBCiiz0",
        "outputId": "556cdc67-0178-41e1-d9ac-36a3261b6e9b"
      },
      "source": [
        "# Enkapsulation\n",
        "alat = \"Laptop Impian\"\n",
        "grafis = \"Intel\"\n",
        "procesor = \"Core i9\"\n",
        "jumlah = 1\n",
        "\n",
        "def jenis():\n",
        "  print(\"Apple Macbook Pro\")\n",
        "\n",
        "def info_laptop(alat, grafis, procesor, jumlah):\n",
        "  print(f\"alat : {alat}, grafis : {grafis}, procesor : {procesor}, jumlah : {jumlah}\")\n",
        "\n",
        "info_laptop(alat, grafis, procesor, jumlah)\n",
        "\n",
        "\n",
        "class Laptop:\n",
        "  def __init__(self, alat, grafis, procesor, jumlah):\n",
        "    self.alat = alat\n",
        "    self.grafis = grafis\n",
        "    self.procesor = procesor\n",
        "    self.jumlah = jumlah\n",
        "\n",
        "  def mimpiKu(self):\n",
        "    print(\"Laptop yang paling di incar \" + self.alat)\n",
        "  \n",
        "  def jenis(self):\n",
        "    print(\"Nitro 5 AN515-44\")\n",
        "\n",
        "  def info(self):\n",
        "    print(f\"alat : {self.alat}, grafis : {self.grafis}, procesor : {self.procesor}, jumlah : {self.jumlah}\")\n",
        "\n",
        "\n",
        "Lepi = Laptop(\"Laptop Impian\", \"Intel\", \"Core i9\", 1)\n",
        "\n",
        "Lepi.info()"
      ],
      "execution_count": null,
      "outputs": [
        {
          "output_type": "stream",
          "name": "stdout",
          "text": [
            "alat : Laptop Impian, grafis : Intel, procesor : Core i9, jumlah : 1\n",
            "alat : Laptop Impian, grafis : Intel, procesor : Core i9, jumlah : 1\n"
          ]
        }
      ]
    },
    {
      "cell_type": "code",
      "metadata": {
        "colab": {
          "base_uri": "https://localhost:8080/"
        },
        "id": "5revH2DejNBf",
        "outputId": "9d73a299-b227-4da0-f82c-5a520533d8c4"
      },
      "source": [
        "#Abstraction Irfan\n",
        "Lepi.mimpiKu()"
      ],
      "execution_count": null,
      "outputs": [
        {
          "output_type": "stream",
          "name": "stdout",
          "text": [
            "Laptop yang paling di incar Laptop Impian\n"
          ]
        }
      ]
    },
    {
      "cell_type": "markdown",
      "metadata": {
        "id": "JwagBUJ6IPA1"
      },
      "source": [
        "\n",
        "\n",
        "---Diki\n",
        "\n"
      ]
    },
    {
      "cell_type": "code",
      "metadata": {
        "id": "ZXSgC63zISTC"
      },
      "source": [
        "# Jawaban Activity\n",
        "# Diki Ananta Code\n",
        "\n",
        "# Encapsulation\n",
        "# Enkapsulation\n",
        "barang = \"Meja belajar\"\n",
        "bahan = \"Kayu Jati\"\n",
        "warna = \"coklat\"\n",
        "jumlah = 2\n",
        "\n",
        "def jenis():\n",
        "  print(\"Meja Belajar olympics\")\n",
        "\n",
        "def info_meja(barang, bahan, warna, jumlah):\n",
        "  print(f\"barang : {barang}, bahan : {bahan}, warna : {warna}, jumlah : {jumlah}\")\n",
        "\n",
        "info_meja(barang, bahan, warna, jumlah)\n",
        "\n",
        "\n",
        "class Meja:\n",
        "  def __init__(self, barang, bahan, warna, jumlah):\n",
        "    self.barang = barang\n",
        "    self.bahan = bahan\n",
        "    self.warna = warna\n",
        "    self.jumlah = jumlah\n",
        "\n",
        "  def myluv(self):\n",
        "    print(\"Barang yang sering digunakan \" + self.barang)\n",
        "  \n",
        "  def jenis(self):\n",
        "    print(\"Meja Belajar Osweet\")\n",
        "\n",
        "  def info(self):\n",
        "    print(f\"barang : {self.barang}, bahan : {self.bahan}, warna : {self.warna}, jumlah : {self.jumlah}\")\n",
        "\n",
        "\n",
        "mejaku = Meja(\"Meja belajar\", \"Kayu Jati\", \"coklat\", 2)\n",
        "\n",
        "mejaku.info()"
      ],
      "execution_count": null,
      "outputs": []
    },
    {
      "cell_type": "code",
      "metadata": {
        "id": "6WWXv-PnIYGV"
      },
      "source": [
        "#Abstraction \n",
        "mejaku.myluv()"
      ],
      "execution_count": null,
      "outputs": []
    },
    {
      "cell_type": "code",
      "metadata": {
        "id": "LWF-3vC3IfC7"
      },
      "source": [
        "# Intan Code\n",
        "\n",
        "# Enkapsulation\n",
        "barang = \"Meja belajar\"\n",
        "bahan = \"Kayu Jati\"\n",
        "warna = \"coklat\"\n",
        "jumlah = 2\n",
        "\n",
        "def jenis():\n",
        "  print(\"Meja Belajar olympics\")\n",
        "\n",
        "def info_meja(barang, bahan, warna, jumlah):\n",
        "  print(f\"barang : {barang}, bahan : {bahan}, warna : {warna}, jumlah : {jumlah}\")\n",
        "\n",
        "info_meja(barang, bahan, warna, jumlah)\n",
        "\n",
        "\n",
        "class Meja:\n",
        "  def __init__(self, barang, bahan, warna, jumlah):\n",
        "    self.barang = barang\n",
        "    self.bahan = bahan\n",
        "    self.warna = warna\n",
        "    self.jumlah = jumlah\n",
        "\n",
        "  def myluv(self):\n",
        "    print(\"Barang yang sering digunakan \" + self.barang)\n",
        "  \n",
        "  def jenis(self):\n",
        "    print(\"Meja Belajar Osweet\")\n",
        "\n",
        "  def info(self):\n",
        "    print(f\"barang : {self.barang}, bahan : {self.bahan}, warna : {self.warna}, jumlah : {self.jumlah}\")\n",
        "\n",
        "\n",
        "mejaku = Meja(\"Meja belajar\", \"Kayu Jati\", \"coklat\", 2)"
      ],
      "execution_count": null,
      "outputs": []
    },
    {
      "cell_type": "code",
      "metadata": {
        "id": "69qqhOBPIjA2"
      },
      "source": [
        "# Abstraction \n",
        "# Memanggil method dari objek tanpa harus mengetahui cara kerja method\n",
        "mejaku.myluv()"
      ],
      "execution_count": null,
      "outputs": []
    },
    {
      "cell_type": "code",
      "metadata": {
        "id": "UNWQKoUoJBVm"
      },
      "source": [
        "# Enkapsulasi (Ori)\n",
        "\n",
        "class Mahasiswa(object):\n",
        "    def __init__(self, nama, umur, hobi, jurusan):\n",
        "        # Properti Private Yang Ini\n",
        "        self.__nama = nama\n",
        "        self.__umur = umur\n",
        "        self.__hobi = hobi\n",
        "        self.__jurusan = jurusan\n",
        "\n",
        "    # method getter\n",
        "    def getNama(self):\n",
        "        return self.__nama\n",
        "\n",
        "    def getUmur(self):\n",
        "        return self.__umur\n",
        "\n",
        "    def getHobi(self):\n",
        "        return self.__hobi\n",
        "\n",
        "    def getJurusan(self):\n",
        "        return self.__jurusan\n",
        "\n",
        "    # method setter\n",
        "    def setNama(self, nama):\n",
        "        self.__nama = nama\n",
        "\n",
        "    def setUmur(self, umur):\n",
        "        self.__jenis = umur\n",
        "\n",
        "    def setHobi(self, hobi):\n",
        "        self.__hobi = hobi\n",
        "\n",
        "    def setJurusan(self, jurusan):\n",
        "        self.__jurusan = jurusan\n",
        "\n",
        "    def info (self):\n",
        "        print(f\"Nama : {self.__nama}, Usia : {self.__umur}, Hobi : {self.__hobi}, Jurusan : {self.__jurusan}\")\n",
        "\n",
        "Aji = Mahasiswa(\"Christuaji Nirbawono Atmojo\", 20, \"Makan/Tidur\", \"Teknik Informatika\")\n",
        "Irfan = Mahasiswa(\"Muh. Irfansyah\", 20, \"Ngewibu\", \"Teknik Informatika\")\n",
        "Intan = Mahasiswa(\"Intan Juniar\", 20, \"Belajar\", \"Lupa Gaes :(\")\n",
        "\n",
        "orang1 = Mahasiswa(\"Christuaji\", 20, \"Makan/Tidur\", \"TI\")\n",
        "orang1.info()\n",
        "\n",
        "print(Aji.getNama())\n",
        "print(Irfan.getNama())\n",
        "print(Intan.getNama())"
      ],
      "execution_count": null,
      "outputs": []
    },
    {
      "cell_type": "code",
      "metadata": {
        "id": "vhPY4zR3JDE3"
      },
      "source": [
        "# Memanggil method dari objek tanpa harus mengetahui cara kerja method\n",
        "kucing1.myfunc()"
      ],
      "execution_count": null,
      "outputs": []
    },
    {
      "cell_type": "code",
      "metadata": {
        "colab": {
          "base_uri": "https://localhost:8080/"
        },
        "id": "PB5hLNrVjyXl",
        "outputId": "88b13d74-309d-43f8-ffd2-5ded9eba6cc1"
      },
      "source": [
        "# Inheritence Irfan\n",
        "\n",
        "class Elektronik(object):\n",
        "  def __init__(self, alat, grafis, ori):\n",
        "    self.alat = alat\n",
        "    self.grafis = grafis\n",
        "    self.ori = ori\n",
        "\n",
        "  def tinggi(self, ukuran):\n",
        "    for x in range(ukuran):\n",
        "      print(\"14 inch\")\n",
        "\n",
        "  def info(self):\n",
        "    print(f\"alat : {self.alat}, grafis : {self.grafis}, ori: {self.ori}\")\n",
        "\n",
        "\n",
        "object1 = Elektronik(\"laptop\", \"Intel\",  True)\n",
        "\n",
        "object1.info()\n",
        "\n",
        "class Laptop(Elektronik):\n",
        "  def __init__(self, alat, grafis, ori, procesor,jumlah, ram):\n",
        "    super().__init__(alat, grafis, ori)\n",
        "    self.procesor = procesor\n",
        "    self.jumlah = jumlah\n",
        "    self.ram = ram\n",
        "  \n",
        "  def jenis(self):\n",
        "    print(\"Nitro 5 AN515-44\")\n",
        "\n",
        "  def info_Elektronik(self):\n",
        "    print(f\"procesor : {self.procesor}, jumlah: {self.jumlah}, ram : {self.ram}\")\n",
        "# warna :{self.warna},\n",
        "\n",
        "mylepi = Laptop(\"Laptop\", \"Intel\",  True, \"Core i9\", 1, \"8 GB\")\n",
        "\n",
        "mylepi.info()\n",
        "mylepi.info_Elektronik()"
      ],
      "execution_count": null,
      "outputs": [
        {
          "output_type": "stream",
          "name": "stdout",
          "text": [
            "alat : laptop, grafis : Intel, ori: True\n",
            "alat : Laptop, grafis : Intel, ori: True\n",
            "procesor : Core i9, jumlah: 1, ram : 8 GB\n"
          ]
        }
      ]
    },
    {
      "cell_type": "code",
      "metadata": {
        "id": "9_8aYnBoJbsJ"
      },
      "source": [
        "# Inheritence\n",
        "\n",
        "class Benda(object):\n",
        "  def __init__(self, barang, bahan, kokoh):\n",
        "    self.barang = barang\n",
        "    self.bahan = bahan\n",
        "    self.kokoh = kokoh\n",
        "\n",
        "  def tinggi(self, berapa):\n",
        "    for x in range(berapa):\n",
        "      print(\"Tingginya 130 cm\")\n",
        "\n",
        "  def info(self):\n",
        "    print(f\"barang : {self.barang}, bahan : {self.bahan}, kokoh: {self.kokoh}\")\n",
        "\n",
        "\n",
        "object1 = Benda(\"Meja\", \"Kayu Jati\",  True)\n",
        "\n",
        "object1.info()\n",
        "\n",
        "class Meja(Benda):\n",
        "  def __init__(self,  barang, bahan, kokoh, warna,jumlah, guna):\n",
        "    super().__init__(barang, bahan, kokoh)\n",
        "    self.warna = warna\n",
        "    self.jumlah = jumlah\n",
        "    self.guna = guna\n",
        "  \n",
        "  def jenis(self):\n",
        "    print(\"Meja Belajar Osweet\")\n",
        "\n",
        "  def info_benda(self):\n",
        "    print(f\"warna : {self.warna}, jumlah: {self.jumlah}, guna : {self.guna}\")\n",
        "# warna :{self.warna},\n",
        "\n",
        "bendaku = Meja(\"Meja\", \"Kayu Jati\",  True, \"coklat\", 2, \"sebagai alas\")\n",
        "\n",
        "bendaku.info()\n",
        "bendaku.info_benda()"
      ],
      "execution_count": null,
      "outputs": []
    },
    {
      "cell_type": "code",
      "metadata": {
        "id": "8hXRYGvGJqsT"
      },
      "source": [
        "# Inheritance (Ori)\n",
        "# Parent Class\n",
        "class Binatang:\n",
        "  def suara(self):\n",
        "      print(\"Binatang Bersuara\")\n",
        "\n",
        "# Child Class\n",
        "class Anjing(Binatang):\n",
        "  def gukguk(self):\n",
        "      print(\"Gukguk.....Gukguk......Saya PDIP\")\n",
        "\n",
        "a = Anjing()\n",
        "a.gukguk()\n",
        "a.suara()"
      ],
      "execution_count": null,
      "outputs": []
    },
    {
      "cell_type": "code",
      "metadata": {
        "id": "lUPvhDH2Jvx5"
      },
      "source": [
        "# Polymorphism (Ori)\n",
        "class Mobil:\n",
        "    def __init__(self, nama, umur):\n",
        "        self.nama = nama\n",
        "        self.umur = umur\n",
        " \n",
        "    def bersuara(self):\n",
        "        print(\"BRMMMMMMM\")\n",
        " \n",
        " \n",
        "class Motor:\n",
        "    def __init__(self, nama, umur):\n",
        "        self.nama = nama\n",
        "        self.umur = umur\n",
        " \n",
        "    def bersuara(self):\n",
        "        print(\"MBRRRRRRR\")\n",
        " \n",
        "mobil1 = Mobil(\"BMW\", 2)\n",
        "motor1 = Motor(\"Nmax\", 2)\n",
        " \n",
        "for kendaraan in (mobil1, motor1):\n",
        "    kendaraan.bersuara()"
      ],
      "execution_count": null,
      "outputs": []
    },
    {
      "cell_type": "code",
      "metadata": {
        "id": "RWkg3W4GJdV6"
      },
      "source": [
        "# Polymorphism\n",
        "class Kursi(Benda):\n",
        "  def __init__(self,  barang, bahan, kokoh, warna, model, jenis_guna):\n",
        "    super().__init__(barang, bahan, kokoh)\n",
        "    self.warna = warna\n",
        "    self.model = model\n",
        "    self.jenis_guna = jenis_guna\n",
        "  \n",
        "  def panjang(self, berapa):\n",
        "    print(\"Bisa buat rebahan....\")\n",
        "\n",
        "  def info_kursi(self):\n",
        "    print(f\"warna : {self.warna}, model : {self.model}, jenis guna : {self.jenis_guna}\")\n",
        "\n",
        "kursiku = Kursi(\"Kursi Tamu\", \"Kayu Jati\",  False, \"Coklat muda\", \"Kursi panjang resban\", \"Kursi tunggu\")\n",
        "\n",
        "kursiku.info()\n",
        "kursiku.info_kursi()\n",
        "kursiku.tinggi(3)"
      ],
      "execution_count": null,
      "outputs": []
    },
    {
      "cell_type": "code",
      "metadata": {
        "colab": {
          "base_uri": "https://localhost:8080/"
        },
        "id": "xCk9qBFSzizd",
        "outputId": "bdf40a6a-35d7-4b41-e1ef-fe376eeac1e7"
      },
      "source": [
        "# Polymorphism Irfan\n",
        "class HandPhone(Elektronik):\n",
        "  def __init__(self,  alat, grafis, ori, procesor, resolusi, ram):\n",
        "    super().__init__(alat, grafis, ori)\n",
        "    self.procesor = procesor\n",
        "    self.resolusi = resolusi\n",
        "    self.ram = ram\n",
        "  \n",
        "  def chipset(self, berapa):\n",
        "    print(\"Qualcomm SM7225 Snapdragon 750G 5G\")\n",
        "\n",
        "  def info_hp(self):\n",
        "    print(f\"procesor : {self.procesor}, resolusi : {self.resolusi}, ram : {self.ram}\")\n",
        "\n",
        "hp = HandPhone(\"Hand Phone\", \"Android 11\",  False, \"Coklat muda\", \"1080 x 2408 pixels, 20:9 ratio (~400 ppi density)\", \"8GB\")\n",
        "\n",
        "hp.info()\n",
        "hp.info_hp()\n",
        "hp.tinggi(4)"
      ],
      "execution_count": null,
      "outputs": [
        {
          "output_type": "stream",
          "name": "stdout",
          "text": [
            "alat : Hand Phone, grafis : Android 11, ori: False\n",
            "procesor : Coklat muda, resolusi : 1080 x 2408 pixels, 20:9 ratio (~400 ppi density), ram : 8GB\n",
            "14 inch\n",
            "14 inch\n",
            "14 inch\n",
            "14 inch\n"
          ]
        }
      ]
    },
    {
      "cell_type": "markdown",
      "metadata": {
        "id": "_kcEI_O4GIzP"
      },
      "source": [
        ""
      ]
    },
    {
      "cell_type": "code",
      "metadata": {
        "id": "f7uWwbgPHtj2"
      },
      "source": [
        "# 1 Big O(1)\n",
        "\n",
        "arr = [1, 2, 3, 4, 5]\n",
        "\n",
        "print(arr[0]) # Big O(1)\n",
        "print(arr[1]) # Big O(1)"
      ],
      "execution_count": null,
      "outputs": []
    },
    {
      "cell_type": "code",
      "metadata": {
        "id": "c06ujXjTJ24e"
      },
      "source": [
        "# 2 Big O(n)\n",
        "\n",
        "print(arr[2]) #Big O(1)\n",
        "for number in arr: #Big O(n)\n",
        "  print(number)\n",
        "print(arr[1]) #Big O(1)\n",
        "print(arr[2]) #Big O(1)"
      ],
      "execution_count": null,
      "outputs": []
    },
    {
      "cell_type": "code",
      "metadata": {
        "id": "GUAaBgiFJ_8Y"
      },
      "source": [
        "# 3 Big O (n)\n",
        "\n",
        "arr2 = [6, 7, 8, 9, 10]\n",
        "\n",
        "for number in arr: #Big O(n)\n",
        "  print(number)\n",
        "for number in arr2: # Big O(n)\n",
        "  print(number)\n",
        "print(arr2[4]) #Big O(1)"
      ],
      "execution_count": null,
      "outputs": []
    },
    {
      "cell_type": "code",
      "metadata": {
        "id": "05jVYdTCKCYB"
      },
      "source": [
        "# 4 Big O(n)\n",
        "\n",
        "print(arr2[1]) #Big O(1)\n",
        "for number in arr: #Big O(n)\n",
        "  print(number)\n",
        "for number in arr: #Big O(n)\n",
        "  print(number)"
      ],
      "execution_count": null,
      "outputs": []
    },
    {
      "cell_type": "code",
      "metadata": {
        "id": "ZRgv_WTQKE4j"
      },
      "source": [
        "# 5 Big O(n^2)\n",
        "\n",
        "for number in arr: #Big O(n^2)\n",
        "  for number2 in arr2:\n",
        "    print(number+number2)\n",
        "print(arr[1]+arr2[1]) #Big O(1)\n",
        "print(arr2[2]) #Big O(1)"
      ],
      "execution_count": null,
      "outputs": []
    },
    {
      "cell_type": "code",
      "metadata": {
        "id": "fxhy4N3ZKHCB"
      },
      "source": [
        "# 6 #Big O(n^2)\n",
        "\n",
        "for number in arr: #Big O(n^2)\n",
        "  for number2 in arr:\n",
        "    print(number+number2)\n",
        "print(arr) #Big O(1)"
      ],
      "execution_count": null,
      "outputs": []
    },
    {
      "cell_type": "code",
      "metadata": {
        "id": "4HvJkSI5KJVk"
      },
      "source": [
        "# 7 #Big O(n^2)\n",
        "\n",
        "for number in arr: #Big O(n^3)\n",
        "  for number2 in arr2:\n",
        "    for number3 in arr:\n",
        "      print(number+number2+number3)\n",
        "print(arr[1]) # Big O(1)\n",
        "print(arr2[2]) # Big O(1)\n",
        "print(arr2[3]) # Big O(1)\n"
      ],
      "execution_count": null,
      "outputs": []
    },
    {
      "cell_type": "code",
      "metadata": {
        "id": "Vw8_GeXvKL83"
      },
      "source": [
        "# 8 Big O(n^2)\n",
        "\n",
        "for number in arr: #Big O(n)\n",
        "  print(number)\n",
        "print(arr2) #Big O(1)\n",
        "for number in arr: #Big O(n^2)\n",
        "  for number2 in arr2:\n",
        "    print(number+number2)\n",
        "print(arr) #Big O(1)"
      ],
      "execution_count": null,
      "outputs": []
    },
    {
      "cell_type": "code",
      "metadata": {
        "colab": {
          "base_uri": "https://localhost:8080/"
        },
        "id": "0m13fhr5KO4c",
        "outputId": "cef61427-99f9-476b-a9a4-40e0802f4245"
      },
      "source": [
        "# 9 \n",
        "# algoritma bubble sort\n",
        "\n",
        "def bubbleSort(arr4):\n",
        "    for passnum in range(len(arr4)-1,0,-1):\n",
        "        for i in range(passnum):\n",
        "            if arr4[i]>arr4[i+1]:\n",
        "                temp = arr4[i]\n",
        "                arr4[i] = arr4[i+1]\n",
        "                arr4[i+1] = temp\n",
        "\n",
        "arr4 = [14,46,43,27,57,41,45,21,70]\n",
        "bubbleSort(arr4)\n",
        "print(arr4)"
      ],
      "execution_count": null,
      "outputs": [
        {
          "output_type": "stream",
          "name": "stdout",
          "text": [
            "[14, 21, 27, 41, 43, 45, 46, 57, 70]\n"
          ]
        }
      ]
    },
    {
      "cell_type": "code",
      "metadata": {
        "colab": {
          "base_uri": "https://localhost:8080/"
        },
        "id": "XEy3eU84KTEa",
        "outputId": "2cf9e5ed-0427-4a54-eabf-3fb71fb69fa1"
      },
      "source": [
        "# 10\n",
        "# algoritma linear search\n",
        "def linear_Search(list1, n, key):  \n",
        "  \n",
        "# Mencari list1 sequentially  \n",
        "  for i in range(0, n):  \n",
        "    if (list1[i] == key):  \n",
        "        return i  \n",
        "  return -1  \n",
        "  \n",
        "  \n",
        "list1 = [1 ,3, 5, 4, 7, 9]  \n",
        "key = int(input(\"Masukkan Angka : \"))  \n",
        "  \n",
        "n = len(list1)  \n",
        "res = linear_Search(list1, n, key)  \n",
        "if(res == -1):  \n",
        "    print(\"Element not found\")  \n",
        "else:  \n",
        "    print(\"Element found at index: \", res) "
      ],
      "execution_count": null,
      "outputs": [
        {
          "output_type": "stream",
          "name": "stdout",
          "text": [
            "Masukkan Angka : 1\n",
            "Element found at index:  0\n"
          ]
        }
      ]
    },
    {
      "cell_type": "code",
      "metadata": {
        "colab": {
          "base_uri": "https://localhost:8080/"
        },
        "id": "iKW_jACcKUn8",
        "outputId": "39193714-27fd-4936-a64c-c5408b4f6aab"
      },
      "source": [
        "# 11\n",
        "# algoritma binary search\n",
        "\n",
        "def binary_search(list2, n):  \n",
        "    low = 0  \n",
        "    high = len(list2) - 1  \n",
        "    mid = 0  \n",
        "  \n",
        "    while low <= high:  \n",
        "        # for get integer result   \n",
        "        mid = (high + low) // 2\n",
        "        if list2[mid] < n:\n",
        "          low = mid + 1  \n",
        "        elif list2[mid] > n:  \n",
        "          high = mid - 1  \n",
        "        else:  \n",
        "          return mid  \n",
        "    return -1  \n",
        "  \n",
        "    \n",
        "list2 = [12, 24, 32, 39, 45, 50, 54]  \n",
        "n = 45  \n",
        "  \n",
        "# Function call   \n",
        "result = binary_search(list2, n)  \n",
        "  \n",
        "if result != -1:  \n",
        "    print(\"Element ada pada index\", str(result))  \n",
        "else:  \n",
        "    print(\"Element tidak dapat ditemukan\")  "
      ],
      "execution_count": null,
      "outputs": [
        {
          "output_type": "stream",
          "name": "stdout",
          "text": [
            "Element ada pada index 4\n"
          ]
        }
      ]
    }
  ]
}